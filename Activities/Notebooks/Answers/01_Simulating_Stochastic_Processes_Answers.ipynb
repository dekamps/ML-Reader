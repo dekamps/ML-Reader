{
 "cells": [
  {
   "cell_type": "markdown",
   "metadata": {},
   "source": [
    "<a rel=\"license\" href=\"http://creativecommons.org/licenses/by/4.0/\"><img alt=\"Creative Commons Licence\" style=\"border-width:0\" src=\"https://i.creativecommons.org/l/by/4.0/88x31.png\" /></a><br /><span xmlns:dct=\"http://purl.org/dc/terms/\" property=\"dct:title\">Simulating Stochastic Processes</span> by <span xmlns:cc=\"http://creativecommons.org/ns#\" property=\"cc:attributionName\">Marc de Kamps and University of Leeds</span> is licensed under a <a rel=\"license\" href=\"http://creativecommons.org/licenses/by/4.0/\">Creative Commons Attribution 4.0 International License</a>."
   ]
  },
  {
   "cell_type": "markdown",
   "metadata": {},
   "source": [
    "### Learning Outcomes\n",
    "\n",
    "In Numpy, it is fairly straightforward to generate samples from a distribution. This is notebook is a kind of self-assessment. Are you able to use randomisers and generating data accoding to some common distributions\n",
    "\n",
    "At the end of this notebook you should be able to:\n",
    "- Select a random generator for the uniform distribution\n",
    "- Set its seed\n",
    "- Inspect simple distributions visually\n",
    "- Implement Bernoulli and Binomial distributions, or use Numpy functions to that effect\n",
    "- Explain how samples from a uniform distribution can transformed into samples of other distributions\n"
   ]
  },
  {
   "cell_type": "markdown",
   "metadata": {},
   "source": [
    "### Preparation\n",
    "\n",
    "- Consult the following link as an entry for random process generation: https://numpy.org/doc/stable/reference/random/index.html\n",
    "- Read up on random number generators. The Wikipedia entry is a decent enough start: https://en.wikipedia.org/wiki/Random_number_generation. For an introduction to the more technical aspects, the book *Numerical Recipes in C*, by Press *et al* contains an informative chapter."
   ]
  },
  {
   "cell_type": "code",
   "execution_count": null,
   "metadata": {},
   "outputs": [],
   "source": [
    "import numpy as np\n",
    "from scipy.stats import uniform\n",
    "\n",
    "# Create a random number generator\n",
    "rng = np.random.default_rng()\n",
    "\n",
    "# Generate 10 uniformly distributed numbers between 0 and 1 using the random generator\n",
    "samples = uniform.rvs(size=10, random_state=rng)\n",
    "\n",
    "print(samples)\n"
   ]
  },
  {
   "cell_type": "markdown",
   "metadata": {
    "jp-MarkdownHeadingCollapsed": true,
    "tags": []
   },
   "source": [
    "### The *scipy.stats* Module\n",
    "To generate samples according to various distributions, *numpy.random* is convenient. Above you see an example of how to generate 10 random values.\n",
    "\n",
    "**Exercise 1:** note down some of the values that were printed. Now go to the top menu of the notebook, select *Kernel*\n",
    "and select *Restart & Clear Output*. Run the notebook again. Comment on whether you observe the same values.\n",
    "If the numbers change every time you restart the book, is this desirable? \n",
    "- Comment on situations were this is potentially valuable. \n",
    "\n",
    "There are also good reasons for this to be undesirable. \n",
    "\n",
    "- State at least one reason for why this is undesirable behaviour.\n",
    "- If this undesirable behaviour, investigate how you can use a seed to prevent it."
   ]
  },
  {
   "cell_type": "markdown",
   "metadata": {},
   "source": [
    "### Common Sense: looking at your data.\n",
    "**Exercise 2:** Generate 10000 data points and histogram them in the interval $[0,1]$. The histogram should be approximately flat. Ensure the results are completely reproducible: upon restarting the notebook and running it again the same results should be produced."
   ]
  },
  {
   "cell_type": "code",
   "execution_count": null,
   "metadata": {},
   "outputs": [],
   "source": [
    "# Sample Answer! (remove)\n",
    "\n",
    "import numpy as np \n",
    "import matplotlib.pyplot as plt\n",
    "\n",
    "# Create a random number generator with a seed so that identical results are produced in different runs.\n",
    "rng = np.random.default_rng(seed=42)\n",
    "\n",
    "\n",
    "# Generate 10 uniformly distributed numbers between 0 and 1 using the random generator\n",
    "samples = uniform.rvs(size=10000, random_state=rng)\n",
    "\n",
    "\n",
    "n_bins = 20\n",
    "hist, bin_edges,_=plt.hist(samples,n_bins)\n",
    "\n"
   ]
  },
  {
   "cell_type": "markdown",
   "metadata": {},
   "source": [
    "**Exercise 3:** Generate 10000 data points $(x,y)$ that are uniformly distributed in the interval $[0,1] \\times [0,1]$. Make a scatter plot of the sample and comment on whether the result is as expected.\n"
   ]
  },
  {
   "cell_type": "code",
   "execution_count": null,
   "metadata": {},
   "outputs": [],
   "source": [
    "# Sample Answer ! (remove)\n",
    "\n",
    "# Generate 10 uniformly distributed numbers between 0 and 1 using the random generator\n",
    "xs = uniform.rvs(size=10000, random_state=rng)\n",
    "ys = uniform.rvs(size=10000, random_state=rng)\n",
    "\n",
    "plt.scatter(xs,ys)\n",
    "_=plt.xlabel('x')\n",
    "_=plt.ylabel('y')"
   ]
  },
  {
   "cell_type": "markdown",
   "metadata": {
    "tags": []
   },
   "source": [
    "**Exercise 4**: Investigate how you can change the aspect ratio of a plot in the notebook and how you can change the dpi (dots per inch). Experiment to make a plot that you find visually attractive: change marker color and type, as well as size. Save the plot as a pdf file."
   ]
  },
  {
   "cell_type": "code",
   "execution_count": null,
   "metadata": {},
   "outputs": [],
   "source": [
    "# Sample Answer ! (remove)\n",
    "plt.rcParams['figure.figsize'] = [3, 3]\n",
    "plt.rcParams['figure.dpi'] = 300\n",
    "\n",
    "plt.plot(xs,ys,'r.',markersize=0.1)\n"
   ]
  },
  {
   "cell_type": "markdown",
   "metadata": {},
   "source": [
    "**Exercise 5:** Now that you can simulate uniformly distributed numbers, it is not hard to simulate a Bernoulli process. Simulate a sample of 1000 uniformly distributed events ($[0,1]$), think of a way of converting them into a sequence generated by a Bernoulli process with $\\mu = 0.4$. Implement this in Python and perform some common sense checks to whether the result is reasonable."
   ]
  },
  {
   "cell_type": "code",
   "execution_count": null,
   "metadata": {
    "tags": []
   },
   "outputs": [],
   "source": [
    "# Sample Answer! (remove)\n",
    "import numpy as np\n",
    "from numpy.random import default_rng\n",
    "\n",
    "# create a random generator with seddd\n",
    "rng = default_rng(seed = 12)\n",
    "\n",
    "# sample from the uniform distribution\n",
    "xs = uniform.rvs(size=10000, random_state=rng)\n",
    "\n",
    "# create a list comprehension of 0s and 1s. Covert the values above to a 1 if they are below mu and to  0 otherwise\n",
    "mu = 0.4\n",
    "b = [ 1 if x <= mu else 0 for x in xs]\n",
    "\n",
    "# print the first 10 values \n",
    "print(b[:10])\n",
    "\n",
    "# the number of ones should be approximately 4000 for mu = 0.4\n",
    "print(np.array(b).sum()) "
   ]
  },
  {
   "cell_type": "markdown",
   "metadata": {},
   "source": [
    "**Exercise 6:** Design and implement a function simulate a Bernoulli sample of arbitrary length. Use this as a basis for a function that generates binomial samples. Generate a sample of 10000 $\\mbox{Bin}(N=10,p=0.25)$ events. Plot a histogram of the sample that you generated."
   ]
  },
  {
   "cell_type": "code",
   "execution_count": null,
   "metadata": {},
   "outputs": [],
   "source": [
    "# Sample Answer! (remove)\n",
    "\n",
    "def bern(mu, size, rng):\n",
    "    xs = uniform.rvs(size=size)\n",
    "    b = [1 if x < mu else 0 for x in xs]\n",
    "    return np.array(b)\n",
    "    \n",
    "def bin(N, p, size, rng): \n",
    "    return np.array([ bern(p,N,rng).sum() for i in range(size) ])\n",
    "\n",
    "vals=bin(10,0.25,10000,rng)\n",
    "hist, bin_edges,_=plt.hist(vals,bins ='auto',density=False)\n",
    "    "
   ]
  },
  {
   "cell_type": "markdown",
   "metadata": {},
   "source": [
    "**Exercise 7:** Research the *scipy.stats.binom* method. Use the method to repeat the previous experiment. Also, research whether a method *bernoulli* exists. If not, explain why not."
   ]
  },
  {
   "cell_type": "code",
   "execution_count": null,
   "metadata": {},
   "outputs": [],
   "source": [
    "# Sample Answer! (remove)\n",
    "from scipy.stats import binom\n",
    "\n",
    "sample = binom.rvs(10,0.25,size=1000)\n",
    "hist, bin_edges,_=plt.hist(vals,bins ='auto',density=True)"
   ]
  },
  {
   "cell_type": "markdown",
   "metadata": {},
   "source": [
    "## The Moral of the Story (so far)\n",
    "\n",
    "The really hard bit about generating random numbers is the generation of uniformly distributed random numbers. Once this is in place, discrete stochastic processes can be modelled relatively easily, although numpy.random provides a convenient front end for most distributions. Feel free to experiment with other distributions."
   ]
  },
  {
   "cell_type": "markdown",
   "metadata": {},
   "source": [
    "## Continuous Distributions\n",
    "\n",
    "**Optional Exercise**\n",
    "\n",
    "It sounds much harder to model a continuous distribution based on a uniform sample, but it is straightforward (in one dimension). If we apply a function $f(x)$ to a uniform distribution, it is no longer uniform. Let's apply the function $f(x) = x^{2}$ to a sample of uniformly distributed events in the interval $[0,1]$. Do this and plot\n",
    "a histogram of the resulting distribution. Use 50 bins for your histogram.\n",
    "\n",
    "Also plot the function $g(x) = 100/\\sqrt(x)$.\n",
    "\n"
   ]
  },
  {
   "cell_type": "code",
   "execution_count": null,
   "metadata": {},
   "outputs": [],
   "source": [
    "# Sample Answer! (remove)\n",
    "\n",
    "# apply the square function to a random sample\n",
    "xs = uniform.rvs(size=10000, random_state=rng)\n",
    "sqs = xs**2\n",
    "\n",
    "# histogram the sample\n",
    "n_bins = 50\n",
    "hist, bin_edges,_=plt.hist(sqs,n_bins)\n",
    "\n",
    "# plot the function, don't include x = 0, for obvious reasons \n",
    "x = np.linspace(0.01,1,100)\n",
    "y = 100./np.sqrt(x)\n",
    "\n",
    "plt.plot(x,y,'r-')"
   ]
  },
  {
   "cell_type": "markdown",
   "metadata": {},
   "source": [
    "If all went well, you have simulated samples distributed with a distribution $g(x) = 100/\\sqrt(x)$. Try to reason why it worked out this way.\n",
    "At the very least, try to understand why a function applied to a sample generated by the homogeneous distribution\n",
    "is  no longer uniform. The moral of the story is that it is easy to sculpt distributions into a desired shape, once a good algorithm for generating uniformly distributed events is available.\n",
    "\n",
    "A full explanantion can be found here: https://en.wikipedia.org/wiki/Inverse_transform_sampling"
   ]
  }
 ],
 "metadata": {
  "kernelspec": {
   "display_name": "Python 3 (ipykernel)",
   "language": "python",
   "name": "python3"
  },
  "language_info": {
   "codemirror_mode": {
    "name": "ipython",
    "version": 3
   },
   "file_extension": ".py",
   "mimetype": "text/x-python",
   "name": "python",
   "nbconvert_exporter": "python",
   "pygments_lexer": "ipython3",
   "version": "3.12.7"
  }
 },
 "nbformat": 4,
 "nbformat_minor": 4
}
